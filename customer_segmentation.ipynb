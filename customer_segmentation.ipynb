{
 "cells": [
  {
   "cell_type": "markdown",
   "metadata": {},
   "source": [
    "**CUSTOMER SEGMENTATION**"
   ]
  },
  {
   "cell_type": "code",
   "execution_count": 1,
   "metadata": {},
   "outputs": [
    {
     "data": {
      "text/html": [
       "<div>\n",
       "<style scoped>\n",
       "    .dataframe tbody tr th:only-of-type {\n",
       "        vertical-align: middle;\n",
       "    }\n",
       "\n",
       "    .dataframe tbody tr th {\n",
       "        vertical-align: top;\n",
       "    }\n",
       "\n",
       "    .dataframe thead th {\n",
       "        text-align: right;\n",
       "    }\n",
       "</style>\n",
       "<table border=\"1\" class=\"dataframe\">\n",
       "  <thead>\n",
       "    <tr style=\"text-align: right;\">\n",
       "      <th></th>\n",
       "      <th>user_id</th>\n",
       "      <th>gender</th>\n",
       "      <th>address</th>\n",
       "      <th>store_id</th>\n",
       "      <th>trans_id</th>\n",
       "      <th>timestamp</th>\n",
       "      <th>item_id</th>\n",
       "      <th>quantity</th>\n",
       "      <th>dollar</th>\n",
       "    </tr>\n",
       "  </thead>\n",
       "  <tbody>\n",
       "    <tr>\n",
       "      <th>0</th>\n",
       "      <td>101981</td>\n",
       "      <td>F</td>\n",
       "      <td>E</td>\n",
       "      <td>2860</td>\n",
       "      <td>818463</td>\n",
       "      <td>11/1/2000 0:00</td>\n",
       "      <td>4.710000e+12</td>\n",
       "      <td>1</td>\n",
       "      <td>37</td>\n",
       "    </tr>\n",
       "    <tr>\n",
       "      <th>1</th>\n",
       "      <td>101981</td>\n",
       "      <td>F</td>\n",
       "      <td>E</td>\n",
       "      <td>2861</td>\n",
       "      <td>818464</td>\n",
       "      <td>11/1/2000 0:00</td>\n",
       "      <td>4.710000e+12</td>\n",
       "      <td>1</td>\n",
       "      <td>17</td>\n",
       "    </tr>\n",
       "    <tr>\n",
       "      <th>2</th>\n",
       "      <td>101981</td>\n",
       "      <td>F</td>\n",
       "      <td>E</td>\n",
       "      <td>2862</td>\n",
       "      <td>818465</td>\n",
       "      <td>11/1/2000 0:00</td>\n",
       "      <td>4.710000e+12</td>\n",
       "      <td>1</td>\n",
       "      <td>23</td>\n",
       "    </tr>\n",
       "    <tr>\n",
       "      <th>3</th>\n",
       "      <td>101981</td>\n",
       "      <td>F</td>\n",
       "      <td>E</td>\n",
       "      <td>2863</td>\n",
       "      <td>818466</td>\n",
       "      <td>11/1/2000 0:00</td>\n",
       "      <td>4.710000e+12</td>\n",
       "      <td>1</td>\n",
       "      <td>41</td>\n",
       "    </tr>\n",
       "    <tr>\n",
       "      <th>4</th>\n",
       "      <td>101981</td>\n",
       "      <td>F</td>\n",
       "      <td>E</td>\n",
       "      <td>2864</td>\n",
       "      <td>818467</td>\n",
       "      <td>11/1/2000 0:00</td>\n",
       "      <td>4.710000e+12</td>\n",
       "      <td>8</td>\n",
       "      <td>288</td>\n",
       "    </tr>\n",
       "  </tbody>\n",
       "</table>\n",
       "</div>"
      ],
      "text/plain": [
       "   user_id gender address  store_id  trans_id       timestamp       item_id  \\\n",
       "0   101981      F       E      2860    818463  11/1/2000 0:00  4.710000e+12   \n",
       "1   101981      F       E      2861    818464  11/1/2000 0:00  4.710000e+12   \n",
       "2   101981      F       E      2862    818465  11/1/2000 0:00  4.710000e+12   \n",
       "3   101981      F       E      2863    818466  11/1/2000 0:00  4.710000e+12   \n",
       "4   101981      F       E      2864    818467  11/1/2000 0:00  4.710000e+12   \n",
       "\n",
       "   quantity  dollar  \n",
       "0         1      37  \n",
       "1         1      17  \n",
       "2         1      23  \n",
       "3         1      41  \n",
       "4         8     288  "
      ]
     },
     "execution_count": 1,
     "metadata": {},
     "output_type": "execute_result"
    }
   ],
   "source": [
    "import pandas as pd\n",
    "import numpy as np\n",
    "import seaborn as sns\n",
    "import random\n",
    "\n",
    "import matplotlib.pyplot as plt\n",
    "%matplotlib inline\n",
    "\n",
    "from sklearn.cluster import KMeans\n",
    "from sklearn.preprocessing import StandardScaler\n",
    "\n",
    "\n",
    "col_names = ['user_id', 'gender', 'address', 'store_id', 'trans_id', 'timestamp', 'item_id', 'quantity', 'dollar']\n",
    "churn = pd.read_csv(\"./retail-churn.csv\", sep = \",\", skiprows = 1, names = col_names)\n",
    "churn.head()"
   ]
  },
  {
   "cell_type": "code",
   "execution_count": 2,
   "metadata": {},
   "outputs": [
    {
     "name": "stdout",
     "output_type": "stream",
     "text": [
      "(37058, 5)\n"
     ]
    },
    {
     "data": {
      "text/html": [
       "<div>\n",
       "<style scoped>\n",
       "    .dataframe tbody tr th:only-of-type {\n",
       "        vertical-align: middle;\n",
       "    }\n",
       "\n",
       "    .dataframe tbody tr th {\n",
       "        vertical-align: top;\n",
       "    }\n",
       "\n",
       "    .dataframe thead th {\n",
       "        text-align: right;\n",
       "    }\n",
       "</style>\n",
       "<table border=\"1\" class=\"dataframe\">\n",
       "  <thead>\n",
       "    <tr style=\"text-align: right;\">\n",
       "      <th></th>\n",
       "      <th>user_id</th>\n",
       "      <th>date</th>\n",
       "      <th>dollar_roll_sum_7D</th>\n",
       "      <th>quantity_roll_sum_7D</th>\n",
       "      <th>last_visit_ndays</th>\n",
       "    </tr>\n",
       "  </thead>\n",
       "  <tbody>\n",
       "    <tr>\n",
       "      <th>0</th>\n",
       "      <td>1113</td>\n",
       "      <td>2000-11-12</td>\n",
       "      <td>420.0</td>\n",
       "      <td>5.0</td>\n",
       "      <td>118.0</td>\n",
       "    </tr>\n",
       "    <tr>\n",
       "      <th>1</th>\n",
       "      <td>1113</td>\n",
       "      <td>2000-11-26</td>\n",
       "      <td>558.0</td>\n",
       "      <td>3.0</td>\n",
       "      <td>14.0</td>\n",
       "    </tr>\n",
       "    <tr>\n",
       "      <th>2</th>\n",
       "      <td>1113</td>\n",
       "      <td>2000-11-27</td>\n",
       "      <td>1182.0</td>\n",
       "      <td>9.0</td>\n",
       "      <td>1.0</td>\n",
       "    </tr>\n",
       "    <tr>\n",
       "      <th>3</th>\n",
       "      <td>1113</td>\n",
       "      <td>2001-01-06</td>\n",
       "      <td>628.0</td>\n",
       "      <td>9.0</td>\n",
       "      <td>40.0</td>\n",
       "    </tr>\n",
       "    <tr>\n",
       "      <th>4</th>\n",
       "      <td>1250</td>\n",
       "      <td>2001-02-04</td>\n",
       "      <td>734.0</td>\n",
       "      <td>5.0</td>\n",
       "      <td>118.0</td>\n",
       "    </tr>\n",
       "  </tbody>\n",
       "</table>\n",
       "</div>"
      ],
      "text/plain": [
       "   user_id       date  dollar_roll_sum_7D  quantity_roll_sum_7D  \\\n",
       "0     1113 2000-11-12               420.0                   5.0   \n",
       "1     1113 2000-11-26               558.0                   3.0   \n",
       "2     1113 2000-11-27              1182.0                   9.0   \n",
       "3     1113 2001-01-06               628.0                   9.0   \n",
       "4     1250 2001-02-04               734.0                   5.0   \n",
       "\n",
       "   last_visit_ndays  \n",
       "0             118.0  \n",
       "1              14.0  \n",
       "2               1.0  \n",
       "3              40.0  \n",
       "4             118.0  "
      ]
     },
     "execution_count": 2,
     "metadata": {},
     "output_type": "execute_result"
    }
   ],
   "source": [
    "churn['date'] =  pd.to_datetime(pd.to_datetime(churn['timestamp'], format = '%m/%d/%Y %H:%M').dt.date)\n",
    "churn_agg = churn.groupby(['user_id', 'date']).agg({'dollar': 'sum', 'quantity': 'sum'})\n",
    "churn_agg = churn_agg.reset_index()\n",
    "churn_roll = pd.DataFrame()\n",
    "churn_roll['dollar_roll_sum_7D'] = churn_agg.groupby('user_id').rolling(window = '7D', on = 'date')['dollar'].sum()\n",
    "churn_roll['quantity_roll_sum_7D'] = churn_agg.groupby('user_id').rolling(window = '7D', on = 'date')['quantity'].sum()\n",
    "churn_roll = churn_roll.reset_index()\n",
    "churn_roll['last_visit_ndays'] = churn_agg.groupby('user_id')['date'].diff(periods = 1).dt.days\n",
    "print(churn_roll.shape)\n",
    "\n",
    "# Should we impute or drop NaN/NaT in churn_roll['last_visit_ndays']?\n",
    "imputation_value = churn_roll['last_visit_ndays'].max() # None # \n",
    "if imputation_value is None:\n",
    "    # Drop (Remove all rows with NaN):\n",
    "    churn_roll.dropna(inplace = True)\n",
    "    print(churn_roll.shape)\n",
    "else:\n",
    "    # Impute (Replace all NaN in last_visit_ndays):\n",
    "    churn_roll['last_visit_ndays'] = churn_roll['last_visit_ndays'].fillna(imputation_value)\n",
    "\n",
    "churn_roll.head()"
   ]
  },
  {
   "cell_type": "code",
   "execution_count": 3,
   "metadata": {},
   "outputs": [],
   "source": [
    "# Number of Clusters = 10\n",
    "n_clusters = 10\n",
    "\n",
    "# RFM Features Columns Selected\n",
    "rfm_features = ['dollar_roll_sum_7D', 'quantity_roll_sum_7D', 'last_visit_ndays']\n",
    "X = churn_roll[rfm_features]\n",
    "\n",
    "# Standardizing the Data for Normalization\n",
    "scaler = StandardScaler()\n",
    "X_normalized = scaler.fit_transform(X)\n",
    "\n",
    "# k-means Training Initialize\n",
    "kmeans = KMeans(n_clusters = n_clusters, random_state = 0, n_init = 10)\n",
    "kmeans.fit(X_normalized)\n",
    "\n",
    "# Centroids Normalized\n",
    "centroids_normalized_scale = kmeans.cluster_centers_"
   ]
  },
  {
   "cell_type": "code",
   "execution_count": 4,
   "metadata": {},
   "outputs": [
    {
     "name": "stdout",
     "output_type": "stream",
     "text": [
      "CLUSTERS IN ORIGINAL SCALE (W/ MANUAL METHOID):\n",
      "    dollar_roll_sum_7D  quantity_roll_sum_7D  last_visit_ndays\n",
      "0         3457.610636             34.035572         10.552285\n",
      "1          597.726143              7.150048        117.260804\n",
      "2          472.141632              6.306601         10.614680\n",
      "3        19804.650566            972.812949          3.599462\n",
      "4        43879.962498            212.067201          9.515671\n",
      "5         1591.641557             17.979373          8.877964\n",
      "6         7510.321527             58.623422         22.641824\n",
      "7         2619.000986             25.398731        115.243552\n",
      "8        19456.583532             87.351651         12.181396\n",
      "9          655.182210              7.238684         47.365493\n"
     ]
    }
   ],
   "source": [
    "# Clusters Reported in Original Scale - USING MANUAL METHOID\n",
    "\n",
    "Centroids = pd.DataFrame(centroids_normalized_scale, columns=rfm_features)\n",
    "Centroids = Centroids * X.std() + X.mean()\n",
    "print(f\"CLUSTERS IN ORIGINAL SCALE (W/ MANUAL METHOID):\\n {Centroids}\" )"
   ]
  },
  {
   "cell_type": "code",
   "execution_count": 5,
   "metadata": {},
   "outputs": [
    {
     "name": "stdout",
     "output_type": "stream",
     "text": [
      "CLUSTERS IN ORIGINAL SCALE (W/ INVERSE_TRANSFORM METHOID):\n",
      "    dollar_roll_sum_7D  quantity_roll_sum_7D  last_visit_ndays\n",
      "0         3457.580632             34.035289         10.552729\n",
      "1          597.734726              7.150128        117.259808\n",
      "2          472.151909              6.306692         10.615123\n",
      "3        19804.400000            972.800000          3.600000\n",
      "4        43879.387097            212.064516          9.516129\n",
      "5         1591.636729             17.979307          8.878431\n",
      "6         7510.236842             58.622807         22.642105\n",
      "7         2618.982297             25.398565        115.242584\n",
      "8        19456.337662             87.350649         12.181818\n",
      "9          655.190018              7.238762         47.365441\n"
     ]
    }
   ],
   "source": [
    "# Clusters Reported in Original Scale - USING \"inverse_transform\" METHOID\n",
    "centroids_original_scale = pd.DataFrame(scaler.inverse_transform(kmeans.cluster_centers_), columns=rfm_features)\n",
    "print(f\"CLUSTERS IN ORIGINAL SCALE (W/ INVERSE_TRANSFORM METHOID):\\n {centroids_original_scale}\" )"
   ]
  },
  {
   "cell_type": "code",
   "execution_count": 6,
   "metadata": {},
   "outputs": [
    {
     "name": "stdout",
     "output_type": "stream",
     "text": [
      "Cluster Sizes:\n",
      "0     2458\n",
      "1     8230\n",
      "2    13197\n",
      "3       10\n",
      "4       31\n",
      "5     6973\n",
      "6      572\n",
      "7     2093\n",
      "8       77\n",
      "9     3417\n",
      "Name: count, dtype: int64\n"
     ]
    }
   ],
   "source": [
    "# Report The Size (Number of Items) of Each Cluster\n",
    "cluster_size = pd.Series(kmeans.labels_).value_counts().sort_index()\n",
    "print(\"Cluster Sizes:\")\n",
    "print(cluster_size)"
   ]
  },
  {
   "cell_type": "code",
   "execution_count": 7,
   "metadata": {},
   "outputs": [
    {
     "name": "stdout",
     "output_type": "stream",
     "text": [
      "NUMER OF ITMES IN EACH CLUSTER: cluster\n",
      "2    13197\n",
      "1     8230\n",
      "5     6973\n",
      "9     3417\n",
      "0     2458\n",
      "7     2093\n",
      "6      572\n",
      "8       77\n",
      "4       31\n",
      "3       10\n",
      "Name: count, dtype: int64\n"
     ]
    }
   ],
   "source": [
    "# Assign a Cluster to Each Row\n",
    "churn_roll['cluster'] = kmeans.predict(X_normalized)\n",
    "print(f\"NUMER OF ITMES IN EACH CLUSTER: {churn_roll.cluster.value_counts()}\")"
   ]
  },
  {
   "cell_type": "code",
   "execution_count": 8,
   "metadata": {},
   "outputs": [
    {
     "data": {
      "text/html": [
       "<div>\n",
       "<style scoped>\n",
       "    .dataframe tbody tr th:only-of-type {\n",
       "        vertical-align: middle;\n",
       "    }\n",
       "\n",
       "    .dataframe tbody tr th {\n",
       "        vertical-align: top;\n",
       "    }\n",
       "\n",
       "    .dataframe thead th {\n",
       "        text-align: right;\n",
       "    }\n",
       "</style>\n",
       "<table border=\"1\" class=\"dataframe\">\n",
       "  <thead>\n",
       "    <tr style=\"text-align: right;\">\n",
       "      <th></th>\n",
       "      <th>dollar_roll_sum_7D</th>\n",
       "      <th>quantity_roll_sum_7D</th>\n",
       "      <th>last_visit_ndays</th>\n",
       "    </tr>\n",
       "  </thead>\n",
       "  <tbody>\n",
       "    <tr>\n",
       "      <th>0</th>\n",
       "      <td>1.071082</td>\n",
       "      <td>0.959612</td>\n",
       "      <td>-0.686691</td>\n",
       "    </tr>\n",
       "    <tr>\n",
       "      <th>1</th>\n",
       "      <td>-0.306380</td>\n",
       "      <td>-0.271457</td>\n",
       "      <td>1.539920</td>\n",
       "    </tr>\n",
       "    <tr>\n",
       "      <th>2</th>\n",
       "      <td>-0.366867</td>\n",
       "      <td>-0.310078</td>\n",
       "      <td>-0.685390</td>\n",
       "    </tr>\n",
       "    <tr>\n",
       "      <th>3</th>\n",
       "      <td>8.944625</td>\n",
       "      <td>43.945574</td>\n",
       "      <td>-0.831771</td>\n",
       "    </tr>\n",
       "    <tr>\n",
       "      <th>4</th>\n",
       "      <td>20.540485</td>\n",
       "      <td>9.111556</td>\n",
       "      <td>-0.708322</td>\n",
       "    </tr>\n",
       "    <tr>\n",
       "      <th>5</th>\n",
       "      <td>0.172339</td>\n",
       "      <td>0.224410</td>\n",
       "      <td>-0.721628</td>\n",
       "    </tr>\n",
       "    <tr>\n",
       "      <th>6</th>\n",
       "      <td>3.023068</td>\n",
       "      <td>2.085473</td>\n",
       "      <td>-0.434428</td>\n",
       "    </tr>\n",
       "    <tr>\n",
       "      <th>7</th>\n",
       "      <td>0.667166</td>\n",
       "      <td>0.564137</td>\n",
       "      <td>1.497827</td>\n",
       "    </tr>\n",
       "    <tr>\n",
       "      <th>8</th>\n",
       "      <td>8.776978</td>\n",
       "      <td>3.400918</td>\n",
       "      <td>-0.652698</td>\n",
       "    </tr>\n",
       "    <tr>\n",
       "      <th>9</th>\n",
       "      <td>-0.278706</td>\n",
       "      <td>-0.267399</td>\n",
       "      <td>0.081464</td>\n",
       "    </tr>\n",
       "  </tbody>\n",
       "</table>\n",
       "</div>"
      ],
      "text/plain": [
       "   dollar_roll_sum_7D  quantity_roll_sum_7D  last_visit_ndays\n",
       "0            1.071082              0.959612         -0.686691\n",
       "1           -0.306380             -0.271457          1.539920\n",
       "2           -0.366867             -0.310078         -0.685390\n",
       "3            8.944625             43.945574         -0.831771\n",
       "4           20.540485              9.111556         -0.708322\n",
       "5            0.172339              0.224410         -0.721628\n",
       "6            3.023068              2.085473         -0.434428\n",
       "7            0.667166              0.564137          1.497827\n",
       "8            8.776978              3.400918         -0.652698\n",
       "9           -0.278706             -0.267399          0.081464"
      ]
     },
     "metadata": {},
     "output_type": "display_data"
    },
    {
     "name": "stdout",
     "output_type": "stream",
     "text": [
      "\n",
      "SCALED CLUSTER CENTROIDS: None\n"
     ]
    }
   ],
   "source": [
    "# Scaled Cluster Centroids\n",
    "ScaledCentroids = pd.DataFrame(kmeans.cluster_centers_, columns=rfm_features)\n",
    "print(f\"\\nSCALED CLUSTER CENTROIDS: {display(ScaledCentroids)}\")"
   ]
  },
  {
   "cell_type": "code",
   "execution_count": 9,
   "metadata": {},
   "outputs": [
    {
     "name": "stdout",
     "output_type": "stream",
     "text": [
      "\n",
      "ORIGINAL SCALE CLUSTER CENTROIDS:\n",
      "    dollar_roll_sum_7D  quantity_roll_sum_7D  last_visit_ndays\n",
      "0         3457.610636             34.035572         10.552285\n",
      "1          597.726143              7.150048        117.260804\n",
      "2          472.141632              6.306601         10.614680\n",
      "3        19804.650566            972.812949          3.599462\n",
      "4        43879.962498            212.067201          9.515671\n",
      "5         1591.641557             17.979373          8.877964\n",
      "6         7510.321527             58.623422         22.641824\n",
      "7         2619.000986             25.398731        115.243552\n",
      "8        19456.583532             87.351651         12.181396\n",
      "9          655.182210              7.238684         47.365493\n"
     ]
    }
   ],
   "source": [
    "# Centroids Original Scaled Data\n",
    "Centroids = pd.DataFrame()\n",
    "Centroids = ScaledCentroids * churn_roll[rfm_features].std() + churn_roll[rfm_features].mean()\n",
    "print(f\"\\nORIGINAL SCALE CLUSTER CENTROIDS:\\n {Centroids}\" )"
   ]
  },
  {
   "cell_type": "code",
   "execution_count": 10,
   "metadata": {},
   "outputs": [
    {
     "name": "stdout",
     "output_type": "stream",
     "text": [
      "REMAING INERTIA (SUM OF SQUARE DISTANCES):\n",
      " 13380\n"
     ]
    }
   ],
   "source": [
    "# Inertia\n",
    "print(f\"REMAING INERTIA (SUM OF SQUARE DISTANCES):\\n {int(kmeans.inertia_)}\")"
   ]
  },
  {
   "cell_type": "code",
   "execution_count": 11,
   "metadata": {},
   "outputs": [
    {
     "data": {
      "text/plain": [
       "[111173.99999999994,\n",
       " 76680.38380743013,\n",
       " 50336.53049273001,\n",
       " 36748.48052508572,\n",
       " 25352.629391520117,\n",
       " 20813.452020978304,\n",
       " 18265.676186524543,\n",
       " 16185.549227572483,\n",
       " 14628.989409396792,\n",
       " 13380.059104363285,\n",
       " 12142.062850178856,\n",
       " 11073.021767454964,\n",
       " 10183.102201702097,\n",
       " 9324.666987334349,\n",
       " 8715.652541894546]"
      ]
     },
     "metadata": {},
     "output_type": "display_data"
    },
    {
     "name": "stdout",
     "output_type": "stream",
     "text": [
      "REMAING INERTIA (SUM OF SQUARE DISTANCES):\n",
      " None\n"
     ]
    }
   ],
   "source": [
    "# Calculate the sum of squared distances for each k\n",
    "inertia_values = []\n",
    "for k_value in range(1, 16):\n",
    "    kmeans = KMeans(n_clusters=k_value, random_state=0, n_init=10)\n",
    "    kmeans.fit(X_normalized)\n",
    "    inertia_values.append(kmeans.inertia_)\n",
    "\n",
    "print(f\"REMAING INERTIA (SUM OF SQUARE DISTANCES):\\n {display(inertia_values)}\")"
   ]
  },
  {
   "cell_type": "code",
   "execution_count": 12,
   "metadata": {},
   "outputs": [
    {
     "data": {
      "image/png": "[encoded data removed]",
      "text/plain": [
       "<Figure size 640x480 with 1 Axes>"
      ]
     },
     "metadata": {},
     "output_type": "display_data"
    }
   ],
   "source": [
    "# Plotting the inertia values for different k\n",
    "plt.plot(range(1, 16), inertia_values, marker='o', linewidth=2, color='blue')\n",
    "plt.title('Inertia Value 1 Through 16')\n",
    "plt.xlabel('Clusters (k)')\n",
    "plt.ylabel('Inertia')\n",
    "\n",
    "plt.show()"
   ]
  },
  {
   "cell_type": "code",
   "execution_count": 13,
   "metadata": {},
   "outputs": [
    {
     "data": {
      "image/png": "[encoded data removed]",
      "text/plain": [
       "<Figure size 640x480 with 1 Axes>"
      ]
     },
     "metadata": {},
     "output_type": "display_data"
    }
   ],
   "source": [
    "# Showing the Elbow Point\n",
    "elbow_point = 5\n",
    "\n",
    "# Plotting the inertia values for different k\n",
    "plt.plot(range(1, 16), inertia_values, marker='o', linewidth=2, color='blue')\n",
    "plt.title('Inertia Value 1 Through 16')\n",
    "plt.xlabel('Clusters (k)')\n",
    "plt.ylabel('Inertia')\n",
    "\n",
    "# Marking the Elbow Point\n",
    "plt.scatter(elbow_point, inertia_values[elbow_point-1], color='red', marker='x', s=100, label='Elbow Point')\n",
    "\n",
    "plt.legend()\n",
    "plt.show()"
   ]
  },
  {
   "cell_type": "code",
   "execution_count": 14,
   "metadata": {},
   "outputs": [],
   "source": [
    "# Training K-means with k = 5\n",
    "elbow_k = 5\n",
    "kmeans_elbow = KMeans(n_clusters = elbow_k, random_state = 0, n_init = 10)\n",
    "kmeans_elbow.fit(X_normalized)\n",
    "\n",
    "# Centroids Normalized\n",
    "elbow_centroids_normalized_scale = kmeans_elbow.cluster_centers_"
   ]
  },
  {
   "cell_type": "code",
   "execution_count": 15,
   "metadata": {},
   "outputs": [
    {
     "name": "stdout",
     "output_type": "stream",
     "text": [
      "Cluster Sizes:\n",
      " 0    23175\n",
      "1    10639\n",
      "2     3177\n",
      "3       10\n",
      "4       57\n",
      "Name: count, dtype: int64\n"
     ]
    }
   ],
   "source": [
    "# Reporting the Size (Number of Items) of Each Cluster\n",
    "cluster_sizes = pd.Series(kmeans_elbow.labels_).value_counts().sort_index()\n",
    "print(f\"Cluster Sizes:\\n {cluster_sizes}\")"
   ]
  },
  {
   "cell_type": "code",
   "execution_count": 16,
   "metadata": {},
   "outputs": [
    {
     "name": "stdout",
     "output_type": "stream",
     "text": [
      "CLUSTERS MEAN IN ORIGINAL SCALE:\n",
      "    dollar_roll_sum_7D  quantity_roll_sum_7D  last_visit_ndays\n",
      "0          836.477008             10.007031         14.174877\n",
      "1          927.477113             10.117586        114.877056\n",
      "2         4493.867823             39.699685         18.667823\n",
      "3        19804.400000            972.800000          3.600000\n",
      "4        35457.385965            165.982456         10.543860\n"
     ]
    }
   ],
   "source": [
    "# Reporting the Mean of Each Cluster in the Original Scale\n",
    "elbow_original_scale = pd.DataFrame(scaler.inverse_transform(kmeans_elbow.cluster_centers_), columns=rfm_features)\n",
    "print(f\"CLUSTERS MEAN IN ORIGINAL SCALE:\\n {elbow_original_scale}\" )"
   ]
  },
  {
   "cell_type": "code",
   "execution_count": 17,
   "metadata": {},
   "outputs": [
    {
     "name": "stdout",
     "output_type": "stream",
     "text": [
      "\n",
      "CLUSTER STANDARD DEVIATION IN Z-NORMALIZED SCALE:\n",
      "   dollar_roll_sum_7D quantity_roll_sum_7D last_visit_ndays\n",
      "0         671.084696             7.158225        13.943787\n",
      "1          891.35654             8.639649        11.038113\n",
      "2        2515.389073            19.788141        31.225534\n",
      "3       10368.944479           281.553547         4.501851\n",
      "4       14163.529663           106.340338         26.81289\n"
     ]
    }
   ],
   "source": [
    "# Reporting the Standard Deviation of Each Cluster in the Z-Normalized Scale\n",
    "cluster_mean = pd.DataFrame(index=range(elbow_k), columns=rfm_features)\n",
    "for x in range(elbow_k):\n",
    "    x_data = churn_roll.loc[kmeans_elbow.labels_ == x, rfm_features]\n",
    "    cluster_mean.loc[x] = x_data.std()\n",
    "\n",
    "print(f\"\\nCLUSTER STANDARD DEVIATION IN Z-NORMALIZED SCALE:\\n {cluster_mean}\")"
   ]
  },
  {
   "cell_type": "code",
   "execution_count": 18,
   "metadata": {},
   "outputs": [
    {
     "name": "stdout",
     "output_type": "stream",
     "text": [
      "****************************************\n",
      "CLUSTER 1\n",
      "\n",
      "SIZE: 23175\n",
      "\n",
      "MEAN RFM VALUE IN ORIGINAL SCALE:\n",
      "dollar_roll_sum_7D      835.962028\n",
      "quantity_roll_sum_7D     10.002071\n",
      "last_visit_ndays         14.172643\n",
      "dtype: float64\n",
      "\n",
      "STANDARD DEVIATION IN Z-NORMALIZED SCALE:\n",
      "dollar_roll_sum_7D      671.084696\n",
      "quantity_roll_sum_7D      7.158225\n",
      "last_visit_ndays         13.943787\n",
      "Name: 0, dtype: object\n",
      "****************************************\n",
      "****************************************\n",
      "CLUSTER 3\n",
      "\n",
      "SIZE: 3177\n",
      "\n",
      "MEAN RFM VALUE IN ORIGINAL SCALE:\n",
      "dollar_roll_sum_7D      4489.565943\n",
      "quantity_roll_sum_7D      39.670444\n",
      "last_visit_ndays          18.674221\n",
      "dtype: float64\n",
      "\n",
      "STANDARD DEVIATION IN Z-NORMALIZED SCALE:\n",
      "dollar_roll_sum_7D      2515.389073\n",
      "quantity_roll_sum_7D      19.788141\n",
      "last_visit_ndays          31.225534\n",
      "Name: 2, dtype: object\n",
      "****************************************\n",
      "****************************************\n",
      "CLUSTER 5\n",
      "\n",
      "SIZE: 57\n",
      "\n",
      "MEAN RFM VALUE IN ORIGINAL SCALE:\n",
      "dollar_roll_sum_7D      35457.385965\n",
      "quantity_roll_sum_7D      165.982456\n",
      "last_visit_ndays           10.543860\n",
      "dtype: float64\n",
      "\n",
      "STANDARD DEVIATION IN Z-NORMALIZED SCALE:\n",
      "dollar_roll_sum_7D      14163.529663\n",
      "quantity_roll_sum_7D      106.340338\n",
      "last_visit_ndays            26.81289\n",
      "Name: 4, dtype: object\n",
      "****************************************\n"
     ]
    }
   ],
   "source": [
    "# Random Cluster Choice of 1, 3, and 5\n",
    "cluster_1 = churn_roll.loc[kmeans_elbow.labels_ == 0, rfm_features]\n",
    "cluster_3 = churn_roll.loc[kmeans_elbow.labels_ == 2, rfm_features]\n",
    "cluster_5 = churn_roll.loc[kmeans_elbow.labels_ == 4, rfm_features]\n",
    "\n",
    "# Info for Cluster #1\n",
    "print(\"****************************************\")\n",
    "print(\"CLUSTER 1\")\n",
    "print(f\"\\nSIZE: {cluster_sizes[0]}\")\n",
    "print(f\"\\nMEAN RFM VALUE IN ORIGINAL SCALE:\\n{cluster_1.mean()}\")\n",
    "print(f\"\\nSTANDARD DEVIATION IN Z-NORMALIZED SCALE:\\n{cluster_mean.loc[0]}\")\n",
    "print(\"****************************************\")\n",
    "\n",
    "# Info for Cluster #3\n",
    "print(\"****************************************\")\n",
    "print(\"CLUSTER 3\")\n",
    "print(f\"\\nSIZE: {cluster_sizes[2]}\")\n",
    "print(f\"\\nMEAN RFM VALUE IN ORIGINAL SCALE:\\n{cluster_3.mean()}\")\n",
    "print(f\"\\nSTANDARD DEVIATION IN Z-NORMALIZED SCALE:\\n{cluster_mean.loc[2]}\")\n",
    "print(\"****************************************\")\n",
    "\n",
    "# Info for Cluster #5\n",
    "print(\"****************************************\")\n",
    "print(\"CLUSTER 5\")\n",
    "print(f\"\\nSIZE: {cluster_sizes[4]}\")\n",
    "print(f\"\\nMEAN RFM VALUE IN ORIGINAL SCALE:\\n{cluster_5.mean()}\")\n",
    "print(f\"\\nSTANDARD DEVIATION IN Z-NORMALIZED SCALE:\\n{cluster_mean.loc[4]}\")\n",
    "print(\"****************************************\")\n"
   ]
  },
  {
   "cell_type": "markdown",
   "metadata": {},
   "source": [
    "**SUMMARY**\n",
    "\n",
    "<br>CLUSTER 1: \n",
    "<br>Cluster 1 represents a large group of customers who, on average, have relatively lower spending (Dollar Roll Sum 7D) and purchase quantities (Quantity Roll Sum 7D). The recency of visits (Last Visit nDays) is moderate. The standard deviations suggest that there is relatively low variability within this cluster.\n",
    "\n",
    "CLUSTER 3:\n",
    "<br>Cluster 3 represents a sizable group of customers with a higher average spending (Dollar Roll Sum 7D) and purchase quantities (Quantity Roll Sum 7D). However, the recency of visits (Last Visit nDays) is notably higher. The standard deviations suggest moderate variability within this cluster.\n",
    "\n",
    "CLUSTER 5:\n",
    "<br>Cluster 5 represents a moderate-sized group of customers with lower average spending (Dollar Roll Sum 7D) and purchase quantities (Quantity Roll Sum 7D). The recency of visits (Last Visit nDays) is moderate. The standard deviations suggest moderate variability within this cluster."
   ]
  }
 ],
 "metadata": {
  "kernelspec": {
   "display_name": "Python 3",
   "language": "python",
   "name": "python3"
  },
  "language_info": {
   "codemirror_mode": {
    "name": "ipython",
    "version": 3
   },
   "file_extension": ".py",
   "mimetype": "text/x-python",
   "name": "python",
   "nbconvert_exporter": "python",
   "pygments_lexer": "ipython3",
   "version": "3.11.4"
  }
 },
 "nbformat": 4,
 "nbformat_minor": 2
}
